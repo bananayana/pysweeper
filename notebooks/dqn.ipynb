{
 "cells": [
  {
   "cell_type": "code",
   "execution_count": 1,
   "metadata": {},
   "outputs": [],
   "source": [
    "%matplotlib notebook"
   ]
  },
  {
   "cell_type": "code",
   "execution_count": 2,
   "metadata": {},
   "outputs": [],
   "source": [
    "import os\n",
    "os.chdir('..')"
   ]
  },
  {
   "cell_type": "code",
   "execution_count": 3,
   "metadata": {
    "id": "HJ74Id-8MERq"
   },
   "outputs": [],
   "source": [
    "import pyvirtualdisplay\n",
    "import imageio \n",
    "import base64\n",
    "import IPython\n",
    "\n",
    "\n",
    "from acme import EnvironmentLoop\n",
    "from acme.tf import networks\n",
    "from acme.wrappers import gym_wrapper\n",
    "from acme import specs\n",
    "from acme.agents.tf import dqn\n",
    "from acme.utils.loggers.tf_summary import TFSummaryLogger\n",
    "import trfl\n",
    "\n",
    "import sonnet as snt\n",
    "import tensorflow as tf\n",
    "\n",
    "from utils import sonnet_resnet\n",
    "\n",
    "physical_devices = tf.config.list_physical_devices('GPU')\n",
    "tf.config.experimental.set_memory_growth(physical_devices[0], enable=True)\n",
    "\n",
    "display = pyvirtualdisplay.Display(visible=0, size=(1400, 900)).start()"
   ]
  },
  {
   "cell_type": "code",
   "execution_count": 4,
   "metadata": {
    "pycharm": {
     "name": "#%%\n"
    }
   },
   "outputs": [
    {
     "data": {
      "text/plain": "[PhysicalDevice(name='/physical_device:GPU:0', device_type='GPU')]"
     },
     "execution_count": 4,
     "metadata": {},
     "output_type": "execute_result"
    }
   ],
   "source": [
    "tf.config.list_physical_devices('GPU')"
   ]
  },
  {
   "cell_type": "code",
   "execution_count": 5,
   "metadata": {},
   "outputs": [],
   "source": [
    "from gym_sweeper.envs.sweeper_env import MinerEnv\n",
    "\n",
    "def display_video(frames, filename='temp.mp4'):\n",
    "  \"\"\"Save and display video.\"\"\"\n",
    "  # Write video\n",
    "  with imageio.get_writer(filename, fps=60) as video:\n",
    "    for frame in frames:\n",
    "      video.append_data(frame)\n",
    "  # Read video and display the video\n",
    "  video = open(filename, 'rb').read()\n",
    "  b64_video = base64.b64encode(video)\n",
    "  video_tag = ('<video  width=\"320\" height=\"240\" controls alt=\"test\" '\n",
    "               'src=\"data:video/mp4;base64,{0}\">').format(b64_video.decode())\n",
    "  return IPython.display.HTML(video_tag)"
   ]
  },
  {
   "cell_type": "code",
   "execution_count": 6,
   "metadata": {},
   "outputs": [],
   "source": [
    "env = gym_wrapper.GymWrapper(MinerEnv())\n",
    "environment_spec = specs.make_environment_spec(env)\n",
    "\n",
    "base_net = snt.Sequential([\n",
    "    sonnet_resnet.ResNetTorso(num_output_hidden=(int(environment_spec.actions.num_values), )),\n",
    "    networks.LayerNormMLP(layer_sizes=(environment_spec.actions.num_values,))\n",
    "])\n",
    "\n",
    "# base_net = tf.saved_model.load(\"model\")\n",
    "\n",
    "epsilon = tf.Variable(0.3, trainable=False, name='eps')\n",
    "rl = tf.Variable(0.00025, trainable=False, name='lr')\n",
    "\n",
    "policy_modules = [\n",
    "    base_net,\n",
    "    lambda q: trfl.epsilon_greedy(q, epsilon=epsilon).sample(),\n",
    "    lambda x: tf.cast(x, tf.int64)\n",
    "]\n",
    "\n",
    "policy_network = snt.Sequential(policy_modules)"
   ]
  },
  {
   "cell_type": "code",
   "execution_count": 7,
   "outputs": [
    {
     "name": "stdout",
     "output_type": "stream",
     "text": [
      "WARNING:tensorflow:Entity <function _yield_value at 0x7f825a750a60> appears to be a generator function. It will not be converted by AutoGraph.\n"
     ]
    }
   ],
   "source": [
    "%%capture\n",
    "agent = dqn.DQN(\n",
    "    environment_spec=environment_spec,\n",
    "    network=base_net,\n",
    "    policy_network=policy_network,\n",
    "    batch_size=4096,\n",
    "    target_update_period=8,\n",
    "    importance_sampling_exponent=0.2,\n",
    "    priority_exponent=0.6,\n",
    "    n_step=4,\n",
    "    learning_rate=rl,\n",
    "    discount=0.99,\n",
    "    logger=TFSummaryLogger('models/rl_0002_e_8_05_bs496_he_trunk_100ksteps_nomlptorso_1kkreplay/logs'),\n",
    "    checkpoint=True,\n",
    "    checkpoint_subpath=    'models/rl_0002_e_8_05_bs496_he_trunk_100ksteps_nomlptorso_1kkreplay',\n",
    "    prefetch_size = 1000,\n",
    "    max_replay_size=1000000\n",
    ")\n"
   ],
   "metadata": {
    "collapsed": false,
    "pycharm": {
     "name": "#%%\n"
    }
   }
  },
  {
   "cell_type": "code",
   "execution_count": 8,
   "metadata": {
    "pycharm": {
     "name": "#%%\n"
    }
   },
   "outputs": [],
   "source": [
    "loop = EnvironmentLoop(env, agent)"
   ]
  },
  {
   "cell_type": "code",
   "execution_count": 9,
   "metadata": {
    "pycharm": {
     "name": "#%%\n"
    }
   },
   "outputs": [
    {
     "name": "stdout",
     "output_type": "stream",
     "text": [
      "INFO:tensorflow:Assets written to: /home/alex/acme/4c066fea-6e52-11eb-9370-e1bb6e60f561/snapshots/network/assets\n",
      "INFO:tensorflow:Assets written to: /home/alex/acme/4c066fea-6e52-11eb-9370-e1bb6e60f561/snapshots/network/assets\n",
      "INFO:tensorflow:Assets written to: /home/alex/acme/4c066fea-6e52-11eb-9370-e1bb6e60f561/snapshots/network/assets\n",
      "INFO:tensorflow:Assets written to: /home/alex/acme/4c066fea-6e52-11eb-9370-e1bb6e60f561/snapshots/network/assets\n",
      "INFO:tensorflow:Assets written to: /home/alex/acme/4c066fea-6e52-11eb-9370-e1bb6e60f561/snapshots/network/assets\n"
     ]
    }
   ],
   "source": [
    "%%capture\n",
    "\n",
    "steps = 15\n",
    "start_eps = 0.3\n",
    "end_eps = 0.05\n",
    "\n",
    "start_rl = 0.0002\n",
    "end_rl = 0.0002\n",
    "\n",
    "# for step in list(reversed(list(range(1, 11)))) + list(range(0, 10)):\n",
    "for step in range(steps):\n",
    "\n",
    "    epsilon.assign(start_eps - step * (start_eps - end_eps) / steps)\n",
    "    rl.assign(start_rl - step * (start_rl - end_rl) / steps)\n",
    "    \n",
    "    loop.run(num_steps=int(100000))"
   ]
  },
  {
   "cell_type": "code",
   "execution_count": 13,
   "metadata": {},
   "outputs": [
    {
     "name": "stdout",
     "output_type": "stream",
     "text": [
      "INFO:tensorflow:Assets written to: /home/alex/acme/4c066fea-6e52-11eb-9370-e1bb6e60f561/snapshots/network/assets\n"
     ]
    }
   ],
   "source": [
    "%%capture\n",
    "# epsilon.assign(0.1)\n",
    "# rl.assign(0.0001)\n",
    "loop.run(num_steps=int(200000))"
   ]
  },
  {
   "cell_type": "code",
   "execution_count": 14,
   "metadata": {
    "pycharm": {
     "name": "#%%\n"
    }
   },
   "outputs": [
    {
     "data": {
      "text/html": [
       "<video  width=\"320\" height=\"240\" controls alt=\"test\" src=\"data:video/mp4;base64,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\">"
      ],
      "text/plain": [
       "<IPython.core.display.HTML object>"
      ]
     },
     "execution_count": 14,
     "metadata": {},
     "output_type": "execute_result"
    }
   ],
   "source": [
    "test_env = gym_wrapper.GymWrapper(MinerEnv())\n",
    "import numpy as np\n",
    "frames = []\n",
    "num_steps = 100\n",
    "timestep = test_env.reset()\n",
    "\n",
    "while not timestep.last():\n",
    "    frames.append(test_env.environment.render(mode='rgb_array'))\n",
    "    action = agent.select_action(timestep.observation)\n",
    "    timestep = test_env.step(int(action))\n",
    "\n",
    "display_video(np.array(frames))"
   ]
  },
  {
   "cell_type": "code",
   "execution_count": null,
   "outputs": [],
   "source": [],
   "metadata": {
    "collapsed": false,
    "pycharm": {
     "name": "#%%\n"
    }
   }
  }
 ],
 "metadata": {
  "colab": {
   "collapsed_sections": [
    "VEEj3Qw60y73"
   ],
   "name": "Acme: Tutorial",
   "provenance": []
  },
  "kernelspec": {
   "display_name": "acme38",
   "language": "python",
   "name": "acme38"
  },
  "language_info": {
   "codemirror_mode": {
    "name": "ipython",
    "version": 3
   },
   "file_extension": ".py",
   "mimetype": "text/x-python",
   "name": "python",
   "nbconvert_exporter": "python",
   "pygments_lexer": "ipython3",
   "version": "3.8.0"
  }
 },
 "nbformat": 4,
 "nbformat_minor": 1
}